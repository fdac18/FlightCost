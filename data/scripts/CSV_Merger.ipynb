{
 "cells": [
  {
   "cell_type": "code",
   "execution_count": 30,
   "metadata": {},
   "outputs": [],
   "source": [
    "import pandas as pd\n",
    "\n",
    "def readIn():\n",
    "    market = pd.read_csv('Q12018Market.csv')\n",
    "    ticket = pd.read_csv('Q12018Ticket.csv')\n",
    "    return market, ticket\n",
    "    \n",
    "market, ticket = readIn()"
   ]
  },
  {
   "cell_type": "code",
   "execution_count": 32,
   "metadata": {},
   "outputs": [
    {
     "name": "stdout",
     "output_type": "stream",
     "text": [
      "MERGED columns: \n",
      "['ItinID', 'MktID', 'MktCoupons', 'DestAirportID', 'DestAirportSeqID', 'DestCityMarketID', 'Dest', 'DestCountry', 'DestStateFips', 'DestState', 'DestStateName', 'DestWac', 'AirportGroup', 'WacGroup', 'TkCarrierChange', 'TkCarrierGroup', 'OpCarrierChange', 'OpCarrierGroup', 'TkCarrier', 'OpCarrier', 'MktFare', 'MktDistance', 'MktDistanceGroup', 'MktMilesFlown', 'NonStopMiles', 'MktGeoType', 'Unnamed: 41', 'Coupons', 'Year', 'Quarter', 'Origin', 'OriginAirportID', 'OriginAirportSeqID', 'OriginCityMarketID', 'OriginCountry', 'OriginStateFips', 'OriginState', 'OriginStateName', 'OriginWac', 'RoundTrip', 'OnLine', 'DollarCred', 'FarePerMile', 'RPCarrier', 'Passengers', 'ItinFare', 'BulkFare', 'Distance', 'DistanceGroup', 'MilesFlown', 'ItinGeoType', 'Unnamed: 25']\n"
     ]
    }
   ],
   "source": [
    "m_cols = list(market)\n",
    "t_cols = list(ticket)\n",
    "\n",
    "dupes = list(set(m_cols) & set(t_cols))\n",
    "dupes.remove('ItinID')\n",
    "market.drop(columns=dupes, axis=1, inplace=True)\n",
    "merged = market.merge(ticket, left_on='ItinID', right_on='ItinID', how='outer')\n",
    "print(\"MERGED columns: \\n\" + str(list(merged)))"
   ]
  },
  {
   "cell_type": "code",
   "execution_count": 41,
   "metadata": {},
   "outputs": [
    {
     "name": "stdout",
     "output_type": "stream",
     "text": [
      "Number of rows in market: (6093175, 27)\n",
      "Number of rows in ticket: (3710127, 26)\n",
      "Number of rows in merged: (6093175, 50)\n"
     ]
    }
   ],
   "source": [
    "print(\"Number of rows in market: \" + str(market.shape))\n",
    "print(\"Number of rows in ticket: \" + str(ticket.shape))\n",
    "print(\"Number of rows in merged: \" + str(merged.shape))\n",
    "mini_merge = merged.head(200000)\n",
    "mini_merge.to_csv('Q1_2018_Merged.csv')\n",
    "#merged.to_csv('Q12018Merged.csv')"
   ]
  },
  {
   "cell_type": "code",
   "execution_count": null,
   "metadata": {},
   "outputs": [],
   "source": []
  }
 ],
 "metadata": {
  "kernelspec": {
   "display_name": "Python 3",
   "language": "python",
   "name": "python3"
  },
  "language_info": {
   "codemirror_mode": {
    "name": "ipython",
    "version": 3
   },
   "file_extension": ".py",
   "mimetype": "text/x-python",
   "name": "python",
   "nbconvert_exporter": "python",
   "pygments_lexer": "ipython3",
   "version": "3.6.4"
  }
 },
 "nbformat": 4,
 "nbformat_minor": 2
}
